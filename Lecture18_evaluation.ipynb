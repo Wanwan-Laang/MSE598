{
 "cells": [
  {
   "cell_type": "code",
   "execution_count": 1,
   "id": "7f925964",
   "metadata": {},
   "outputs": [],
   "source": [
    "import pandas as pd\n",
    "import numpy as np\n",
    "import math\n",
    "from sklearn.feature_extraction import DictVectorizer\n",
    "from sklearn.metrics import accuracy_score\n",
    "\n",
    "import seaborn as sns\n",
    "from matplotlib import pyplot as plt\n",
    "%matplotlib inline"
   ]
  },
  {
   "cell_type": "code",
   "execution_count": 2,
   "id": "de0c4964",
   "metadata": {},
   "outputs": [],
   "source": [
    "df=pd.read_csv('./Concrete_Data_Yeh.csv')"
   ]
  },
  {
   "cell_type": "code",
   "execution_count": 3,
   "id": "c4d812d5",
   "metadata": {},
   "outputs": [
    {
     "data": {
      "image/png": "[encoded data removed]",
      "text/plain": [
       "<Figure size 600x400 with 1 Axes>"
      ]
     },
     "metadata": {},
     "output_type": "display_data"
    }
   ],
   "source": [
    "plt.figure(figsize=(6, 4))\n",
    "\n",
    "sns.histplot(df.csMPa, label='histogram', color='#0000aa', alpha=0.8, bins=40)\n",
    "\n",
    "plt.legend()\n",
    "\n",
    "plt.ylabel('frequency')\n",
    "plt.xlabel('csMPa')\n",
    "\n",
    "plt.show()"
   ]
  },
  {
   "cell_type": "code",
   "execution_count": 4,
   "id": "bb3e231d",
   "metadata": {},
   "outputs": [],
   "source": [
    "df['goodconcrete']=(df.csMPa>50.0).astype(int)\n",
    "del df['csMPa']"
   ]
  },
  {
   "cell_type": "code",
   "execution_count": 5,
   "id": "0e554625",
   "metadata": {},
   "outputs": [
    {
     "data": {
      "text/html": [
       "<div>\n",
       "<style scoped>\n",
       "    .dataframe tbody tr th:only-of-type {\n",
       "        vertical-align: middle;\n",
       "    }\n",
       "\n",
       "    .dataframe tbody tr th {\n",
       "        vertical-align: top;\n",
       "    }\n",
       "\n",
       "    .dataframe thead th {\n",
       "        text-align: right;\n",
       "    }\n",
       "</style>\n",
       "<table border=\"1\" class=\"dataframe\">\n",
       "  <thead>\n",
       "    <tr style=\"text-align: right;\">\n",
       "      <th></th>\n",
       "      <th>cement</th>\n",
       "      <th>slag</th>\n",
       "      <th>flyash</th>\n",
       "      <th>water</th>\n",
       "      <th>superplasticizer</th>\n",
       "      <th>coarseaggregate</th>\n",
       "      <th>fineaggregate</th>\n",
       "      <th>age</th>\n",
       "      <th>goodconcrete</th>\n",
       "    </tr>\n",
       "  </thead>\n",
       "  <tbody>\n",
       "    <tr>\n",
       "      <th>1025</th>\n",
       "      <td>276.4</td>\n",
       "      <td>116.0</td>\n",
       "      <td>90.3</td>\n",
       "      <td>179.6</td>\n",
       "      <td>8.9</td>\n",
       "      <td>870.1</td>\n",
       "      <td>768.3</td>\n",
       "      <td>28</td>\n",
       "      <td>0</td>\n",
       "    </tr>\n",
       "    <tr>\n",
       "      <th>1026</th>\n",
       "      <td>322.2</td>\n",
       "      <td>0.0</td>\n",
       "      <td>115.6</td>\n",
       "      <td>196.0</td>\n",
       "      <td>10.4</td>\n",
       "      <td>817.9</td>\n",
       "      <td>813.4</td>\n",
       "      <td>28</td>\n",
       "      <td>0</td>\n",
       "    </tr>\n",
       "    <tr>\n",
       "      <th>1027</th>\n",
       "      <td>148.5</td>\n",
       "      <td>139.4</td>\n",
       "      <td>108.6</td>\n",
       "      <td>192.7</td>\n",
       "      <td>6.1</td>\n",
       "      <td>892.4</td>\n",
       "      <td>780.0</td>\n",
       "      <td>28</td>\n",
       "      <td>0</td>\n",
       "    </tr>\n",
       "    <tr>\n",
       "      <th>1028</th>\n",
       "      <td>159.1</td>\n",
       "      <td>186.7</td>\n",
       "      <td>0.0</td>\n",
       "      <td>175.6</td>\n",
       "      <td>11.3</td>\n",
       "      <td>989.6</td>\n",
       "      <td>788.9</td>\n",
       "      <td>28</td>\n",
       "      <td>0</td>\n",
       "    </tr>\n",
       "    <tr>\n",
       "      <th>1029</th>\n",
       "      <td>260.9</td>\n",
       "      <td>100.5</td>\n",
       "      <td>78.3</td>\n",
       "      <td>200.6</td>\n",
       "      <td>8.6</td>\n",
       "      <td>864.5</td>\n",
       "      <td>761.5</td>\n",
       "      <td>28</td>\n",
       "      <td>0</td>\n",
       "    </tr>\n",
       "  </tbody>\n",
       "</table>\n",
       "</div>"
      ],
      "text/plain": [
       "      cement   slag  flyash  water  superplasticizer  coarseaggregate  \\\n",
       "1025   276.4  116.0    90.3  179.6               8.9            870.1   \n",
       "1026   322.2    0.0   115.6  196.0              10.4            817.9   \n",
       "1027   148.5  139.4   108.6  192.7               6.1            892.4   \n",
       "1028   159.1  186.7     0.0  175.6              11.3            989.6   \n",
       "1029   260.9  100.5    78.3  200.6               8.6            864.5   \n",
       "\n",
       "      fineaggregate  age  goodconcrete  \n",
       "1025          768.3   28             0  \n",
       "1026          813.4   28             0  \n",
       "1027          780.0   28             0  \n",
       "1028          788.9   28             0  \n",
       "1029          761.5   28             0  "
      ]
     },
     "execution_count": 5,
     "metadata": {},
     "output_type": "execute_result"
    }
   ],
   "source": [
    "df.tail()"
   ]
  },
  {
   "cell_type": "code",
   "execution_count": 6,
   "id": "43c3f3f9",
   "metadata": {
    "scrolled": true
   },
   "outputs": [
    {
     "data": {
      "image/png": "[encoded data removed]",
      "text/plain": [
       "<Figure size 600x400 with 1 Axes>"
      ]
     },
     "metadata": {},
     "output_type": "display_data"
    }
   ],
   "source": [
    "plt.figure(figsize=(6, 4))\n",
    "\n",
    "sns.histplot(df.goodconcrete, label='histogram', color='#0000aa', alpha=0.8, bins=40)\n",
    "\n",
    "plt.legend()\n",
    "\n",
    "plt.ylabel('frequency')\n",
    "plt.xlabel('csMPa')\n",
    "\n",
    "plt.show()"
   ]
  },
  {
   "cell_type": "markdown",
   "id": "64a02fc0",
   "metadata": {},
   "source": [
    "# Validation"
   ]
  },
  {
   "cell_type": "code",
   "execution_count": 7,
   "id": "8bfed7da",
   "metadata": {},
   "outputs": [],
   "source": [
    "from sklearn.model_selection import train_test_split"
   ]
  },
  {
   "cell_type": "code",
   "execution_count": 8,
   "id": "6a275b2b",
   "metadata": {},
   "outputs": [],
   "source": [
    "df_train_full, df_test = train_test_split(df, test_size=0.2, random_state=1)"
   ]
  },
  {
   "cell_type": "code",
   "execution_count": 9,
   "id": "ab3bfd71",
   "metadata": {},
   "outputs": [],
   "source": [
    "df_train, df_val = train_test_split(df_train_full, test_size=0.33, random_state=11)"
   ]
  },
  {
   "cell_type": "code",
   "execution_count": 10,
   "id": "32eb040a",
   "metadata": {},
   "outputs": [],
   "source": [
    "y_train = df_train.goodconcrete.values\n",
    "y_val = df_val.goodconcrete.values"
   ]
  },
  {
   "cell_type": "code",
   "execution_count": 11,
   "id": "d3edb573",
   "metadata": {},
   "outputs": [],
   "source": [
    "del df_train['goodconcrete']\n",
    "del df_val['goodconcrete']"
   ]
  },
  {
   "cell_type": "markdown",
   "id": "fe719470",
   "metadata": {},
   "source": [
    "# Exploratory Data Analysis"
   ]
  },
  {
   "cell_type": "code",
   "execution_count": 12,
   "id": "1211f684",
   "metadata": {},
   "outputs": [
    {
     "data": {
      "text/plain": [
       "0.201"
      ]
     },
     "execution_count": 12,
     "metadata": {},
     "output_type": "execute_result"
    }
   ],
   "source": [
    "global_mean = df_train_full.goodconcrete.mean()\n",
    "round(global_mean, 3)"
   ]
  },
  {
   "cell_type": "markdown",
   "id": "51018134",
   "metadata": {},
   "source": [
    "# Data Prep"
   ]
  },
  {
   "cell_type": "code",
   "execution_count": 13,
   "id": "b4c3f907",
   "metadata": {},
   "outputs": [],
   "source": [
    "numerical=['cement', 'slag', 'flyash', 'water', 'age', 'superplasticizer', 'coarseaggregate', 'fineaggregate']"
   ]
  },
  {
   "cell_type": "code",
   "execution_count": 14,
   "id": "9bc00e96",
   "metadata": {},
   "outputs": [],
   "source": [
    "train_dict = df_train[numerical].to_dict(orient='records')\n",
    "dv = DictVectorizer(sparse=False)\n",
    "dv.fit(train_dict)\n",
    "X_train = dv.transform(train_dict)"
   ]
  },
  {
   "cell_type": "markdown",
   "id": "9c549316",
   "metadata": {},
   "source": [
    "# Training Logistic Regression"
   ]
  },
  {
   "cell_type": "code",
   "execution_count": 15,
   "id": "0d482eb1",
   "metadata": {},
   "outputs": [],
   "source": [
    "from sklearn.linear_model import LogisticRegression"
   ]
  },
  {
   "cell_type": "code",
   "execution_count": 16,
   "id": "4a6ab773",
   "metadata": {},
   "outputs": [
    {
     "data": {
      "text/html": [
       "<style>#sk-container-id-1 {color: black;background-color: white;}#sk-container-id-1 pre{padding: 0;}#sk-container-id-1 div.sk-toggleable {background-color: white;}#sk-container-id-1 label.sk-toggleable__label {cursor: pointer;display: block;width: 100%;margin-bottom: 0;padding: 0.3em;box-sizing: border-box;text-align: center;}#sk-container-id-1 label.sk-toggleable__label-arrow:before {content: \"▸\";float: left;margin-right: 0.25em;color: #696969;}#sk-container-id-1 label.sk-toggleable__label-arrow:hover:before {color: black;}#sk-container-id-1 div.sk-estimator:hover label.sk-toggleable__label-arrow:before {color: black;}#sk-container-id-1 div.sk-toggleable__content {max-height: 0;max-width: 0;overflow: hidden;text-align: left;background-color: #f0f8ff;}#sk-container-id-1 div.sk-toggleable__content pre {margin: 0.2em;color: black;border-radius: 0.25em;background-color: #f0f8ff;}#sk-container-id-1 input.sk-toggleable__control:checked~div.sk-toggleable__content {max-height: 200px;max-width: 100%;overflow: auto;}#sk-container-id-1 input.sk-toggleable__control:checked~label.sk-toggleable__label-arrow:before {content: \"▾\";}#sk-container-id-1 div.sk-estimator input.sk-toggleable__control:checked~label.sk-toggleable__label {background-color: #d4ebff;}#sk-container-id-1 div.sk-label input.sk-toggleable__control:checked~label.sk-toggleable__label {background-color: #d4ebff;}#sk-container-id-1 input.sk-hidden--visually {border: 0;clip: rect(1px 1px 1px 1px);clip: rect(1px, 1px, 1px, 1px);height: 1px;margin: -1px;overflow: hidden;padding: 0;position: absolute;width: 1px;}#sk-container-id-1 div.sk-estimator {font-family: monospace;background-color: #f0f8ff;border: 1px dotted black;border-radius: 0.25em;box-sizing: border-box;margin-bottom: 0.5em;}#sk-container-id-1 div.sk-estimator:hover {background-color: #d4ebff;}#sk-container-id-1 div.sk-parallel-item::after {content: \"\";width: 100%;border-bottom: 1px solid gray;flex-grow: 1;}#sk-container-id-1 div.sk-label:hover label.sk-toggleable__label {background-color: #d4ebff;}#sk-container-id-1 div.sk-serial::before {content: \"\";position: absolute;border-left: 1px solid gray;box-sizing: border-box;top: 0;bottom: 0;left: 50%;z-index: 0;}#sk-container-id-1 div.sk-serial {display: flex;flex-direction: column;align-items: center;background-color: white;padding-right: 0.2em;padding-left: 0.2em;position: relative;}#sk-container-id-1 div.sk-item {position: relative;z-index: 1;}#sk-container-id-1 div.sk-parallel {display: flex;align-items: stretch;justify-content: center;background-color: white;position: relative;}#sk-container-id-1 div.sk-item::before, #sk-container-id-1 div.sk-parallel-item::before {content: \"\";position: absolute;border-left: 1px solid gray;box-sizing: border-box;top: 0;bottom: 0;left: 50%;z-index: -1;}#sk-container-id-1 div.sk-parallel-item {display: flex;flex-direction: column;z-index: 1;position: relative;background-color: white;}#sk-container-id-1 div.sk-parallel-item:first-child::after {align-self: flex-end;width: 50%;}#sk-container-id-1 div.sk-parallel-item:last-child::after {align-self: flex-start;width: 50%;}#sk-container-id-1 div.sk-parallel-item:only-child::after {width: 0;}#sk-container-id-1 div.sk-dashed-wrapped {border: 1px dashed gray;margin: 0 0.4em 0.5em 0.4em;box-sizing: border-box;padding-bottom: 0.4em;background-color: white;}#sk-container-id-1 div.sk-label label {font-family: monospace;font-weight: bold;display: inline-block;line-height: 1.2em;}#sk-container-id-1 div.sk-label-container {text-align: center;}#sk-container-id-1 div.sk-container {/* jupyter's `normalize.less` sets `[hidden] { display: none; }` but bootstrap.min.css set `[hidden] { display: none !important; }` so we also need the `!important` here to be able to override the default hidden behavior on the sphinx rendered scikit-learn.org. See: https://github.com/scikit-learn/scikit-learn/issues/21755 */display: inline-block !important;position: relative;}#sk-container-id-1 div.sk-text-repr-fallback {display: none;}</style><div id=\"sk-container-id-1\" class=\"sk-top-container\"><div class=\"sk-text-repr-fallback\"><pre>LogisticRegression(random_state=1, solver=&#x27;liblinear&#x27;)</pre><b>In a Jupyter environment, please rerun this cell to show the HTML representation or trust the notebook. <br />On GitHub, the HTML representation is unable to render, please try loading this page with nbviewer.org.</b></div><div class=\"sk-container\" hidden><div class=\"sk-item\"><div class=\"sk-estimator sk-toggleable\"><input class=\"sk-toggleable__control sk-hidden--visually\" id=\"sk-estimator-id-1\" type=\"checkbox\" checked><label for=\"sk-estimator-id-1\" class=\"sk-toggleable__label sk-toggleable__label-arrow\">LogisticRegression</label><div class=\"sk-toggleable__content\"><pre>LogisticRegression(random_state=1, solver=&#x27;liblinear&#x27;)</pre></div></div></div></div></div>"
      ],
      "text/plain": [
       "LogisticRegression(random_state=1, solver='liblinear')"
      ]
     },
     "execution_count": 16,
     "metadata": {},
     "output_type": "execute_result"
    }
   ],
   "source": [
    "model = LogisticRegression(solver='liblinear', random_state=1)\n",
    "model.fit(X_train, y_train)"
   ]
  },
  {
   "cell_type": "code",
   "execution_count": 17,
   "id": "47c2ff03",
   "metadata": {},
   "outputs": [],
   "source": [
    "val_dict = df_val[numerical].to_dict(orient='records')\n",
    "X_val = dv.transform(val_dict)"
   ]
  },
  {
   "cell_type": "code",
   "execution_count": 18,
   "id": "00438d66",
   "metadata": {},
   "outputs": [
    {
     "data": {
      "text/plain": [
       "array([0, 0, 0, 0, 0, 1, 0, 0, 0, 1, 0, 0, 0, 0, 1, 0, 1, 1, 0, 0, 1, 0,\n",
       "       0, 0, 0, 1, 0, 0, 0, 0, 0, 0, 0, 0, 0, 0, 0, 0, 0, 0, 0, 0, 0, 0,\n",
       "       0, 0, 0, 1, 1, 1, 0, 0, 0, 0, 0, 0, 0, 1, 0, 0, 0, 0, 0, 0, 0, 0,\n",
       "       0, 0, 0, 0, 1, 0, 0, 0, 1, 0, 0, 0, 1, 0, 1, 0, 0, 0, 0, 0, 1, 0,\n",
       "       0, 0, 0, 0, 1, 0, 0, 0, 0, 0, 0, 0, 1, 1, 1, 0, 0, 0, 1, 0, 0, 0,\n",
       "       0, 0, 0, 0, 0, 1, 0, 0, 0, 1, 0, 0, 1, 0, 1, 0, 0, 0, 0, 0, 0, 0,\n",
       "       0, 0, 1, 0, 0, 1, 0, 0, 0, 0, 1, 0, 0, 0, 0, 0, 0, 0, 0, 0, 1, 1,\n",
       "       0, 0, 0, 1, 0, 0, 0, 0, 1, 0, 1, 1, 0, 0, 0, 0, 0, 1, 0, 0, 0, 1,\n",
       "       1, 0, 0, 0, 0, 1, 1, 0, 0, 0, 0, 0, 0, 1, 0, 0, 0, 1, 0, 0, 0, 0,\n",
       "       0, 0, 0, 0, 0, 0, 1, 1, 0, 0, 0, 1, 0, 1, 0, 0, 0, 0, 0, 0, 0, 0,\n",
       "       0, 0, 1, 0, 0, 0, 1, 0, 0, 0, 0, 0, 1, 0, 0, 0, 0, 0, 0, 0, 1, 0,\n",
       "       0, 0, 0, 0, 1, 0, 0, 0, 0, 0, 0, 0, 0, 1, 0, 0, 1, 0, 0, 0, 1, 1,\n",
       "       0, 0, 0, 0, 0, 0, 0, 0])"
      ]
     },
     "execution_count": 18,
     "metadata": {},
     "output_type": "execute_result"
    }
   ],
   "source": [
    "model.predict(X_val)"
   ]
  },
  {
   "cell_type": "code",
   "execution_count": 19,
   "id": "4e902bf0",
   "metadata": {},
   "outputs": [
    {
     "data": {
      "text/plain": [
       "array([[9.42517771e-01, 5.74822286e-02],\n",
       "       [9.87828720e-01, 1.21712801e-02],\n",
       "       [9.91724605e-01, 8.27539501e-03],\n",
       "       [8.24016265e-01, 1.75983735e-01],\n",
       "       [9.91050967e-01, 8.94903251e-03],\n",
       "       [3.64628978e-01, 6.35371022e-01],\n",
       "       [7.79546072e-01, 2.20453928e-01],\n",
       "       [9.85742957e-01, 1.42570434e-02],\n",
       "       [9.99229048e-01, 7.70951992e-04],\n",
       "       [3.47768575e-01, 6.52231425e-01],\n",
       "       [8.99356837e-01, 1.00643163e-01],\n",
       "       [9.89271908e-01, 1.07280921e-02],\n",
       "       [9.90064700e-01, 9.93530022e-03],\n",
       "       [6.55576183e-01, 3.44423817e-01],\n",
       "       [2.58987135e-01, 7.41012865e-01],\n",
       "       [9.19704122e-01, 8.02958777e-02],\n",
       "       [1.76319718e-01, 8.23680282e-01],\n",
       "       [1.67959268e-01, 8.32040732e-01],\n",
       "       [9.94699706e-01, 5.30029361e-03],\n",
       "       [9.15495024e-01, 8.45049763e-02],\n",
       "       [4.08475551e-01, 5.91524449e-01],\n",
       "       [9.96436830e-01, 3.56317003e-03],\n",
       "       [8.87835551e-01, 1.12164449e-01],\n",
       "       [9.85468841e-01, 1.45311591e-02],\n",
       "       [5.47196150e-01, 4.52803850e-01],\n",
       "       [4.41469966e-01, 5.58530034e-01],\n",
       "       [9.63676679e-01, 3.63233210e-02],\n",
       "       [9.36184647e-01, 6.38153527e-02],\n",
       "       [7.80184087e-01, 2.19815913e-01],\n",
       "       [6.05110492e-01, 3.94889508e-01],\n",
       "       [9.80769909e-01, 1.92300907e-02],\n",
       "       [9.72309922e-01, 2.76900783e-02],\n",
       "       [9.75931174e-01, 2.40688260e-02],\n",
       "       [9.14545628e-01, 8.54543724e-02],\n",
       "       [9.73006185e-01, 2.69938151e-02],\n",
       "       [9.96767586e-01, 3.23241446e-03],\n",
       "       [9.09362114e-01, 9.06378856e-02],\n",
       "       [9.60218207e-01, 3.97817934e-02],\n",
       "       [9.35527889e-01, 6.44721113e-02],\n",
       "       [9.93729668e-01, 6.27033205e-03],\n",
       "       [7.39145206e-01, 2.60854794e-01],\n",
       "       [9.93405786e-01, 6.59421385e-03],\n",
       "       [5.16178428e-01, 4.83821572e-01],\n",
       "       [9.88991316e-01, 1.10086838e-02],\n",
       "       [9.76981622e-01, 2.30183785e-02],\n",
       "       [6.53757737e-01, 3.46242263e-01],\n",
       "       [9.94308181e-01, 5.69181851e-03],\n",
       "       [2.51742083e-01, 7.48257917e-01],\n",
       "       [5.08827574e-02, 9.49117243e-01],\n",
       "       [1.38571336e-01, 8.61428664e-01],\n",
       "       [9.82235967e-01, 1.77640326e-02],\n",
       "       [8.82398711e-01, 1.17601289e-01],\n",
       "       [9.75319638e-01, 2.46803618e-02],\n",
       "       [5.20076489e-01, 4.79923511e-01],\n",
       "       [9.92536237e-01, 7.46376292e-03],\n",
       "       [9.73871196e-01, 2.61288037e-02],\n",
       "       [9.71824937e-01, 2.81750629e-02],\n",
       "       [1.48622135e-01, 8.51377865e-01],\n",
       "       [6.79440804e-01, 3.20559196e-01],\n",
       "       [8.44829922e-01, 1.55170078e-01],\n",
       "       [7.02620630e-01, 2.97379370e-01],\n",
       "       [9.80665760e-01, 1.93342396e-02],\n",
       "       [9.94910399e-01, 5.08960118e-03],\n",
       "       [9.20849826e-01, 7.91501744e-02],\n",
       "       [8.52667632e-01, 1.47332368e-01],\n",
       "       [6.87227048e-01, 3.12772952e-01],\n",
       "       [7.34300528e-01, 2.65699472e-01],\n",
       "       [9.51543839e-01, 4.84561612e-02],\n",
       "       [9.95726107e-01, 4.27389324e-03],\n",
       "       [8.16272681e-01, 1.83727319e-01],\n",
       "       [1.21356424e-01, 8.78643576e-01],\n",
       "       [9.43348812e-01, 5.66511882e-02],\n",
       "       [8.48238185e-01, 1.51761815e-01],\n",
       "       [8.75916278e-01, 1.24083722e-01],\n",
       "       [3.50984907e-01, 6.49015093e-01],\n",
       "       [9.69045420e-01, 3.09545796e-02],\n",
       "       [9.20998768e-01, 7.90012320e-02],\n",
       "       [9.96193864e-01, 3.80613575e-03],\n",
       "       [1.45019723e-01, 8.54980277e-01],\n",
       "       [5.30553771e-01, 4.69446229e-01],\n",
       "       [2.68191740e-01, 7.31808260e-01],\n",
       "       [9.92419323e-01, 7.58067687e-03],\n",
       "       [9.30981796e-01, 6.90182037e-02],\n",
       "       [9.56486559e-01, 4.35134413e-02],\n",
       "       [9.89130139e-01, 1.08698608e-02],\n",
       "       [6.51094741e-01, 3.48905259e-01],\n",
       "       [4.37590365e-01, 5.62409635e-01],\n",
       "       [9.98454836e-01, 1.54516414e-03],\n",
       "       [9.84183503e-01, 1.58164968e-02],\n",
       "       [8.84644240e-01, 1.15355760e-01],\n",
       "       [8.56430899e-01, 1.43569101e-01],\n",
       "       [9.96897668e-01, 3.10233152e-03],\n",
       "       [2.73226383e-01, 7.26773617e-01],\n",
       "       [9.08701573e-01, 9.12984268e-02],\n",
       "       [9.12398816e-01, 8.76011835e-02],\n",
       "       [8.61052477e-01, 1.38947523e-01],\n",
       "       [9.82094837e-01, 1.79051632e-02],\n",
       "       [5.27012489e-01, 4.72987511e-01],\n",
       "       [9.82200366e-01, 1.77996343e-02],\n",
       "       [9.60213619e-01, 3.97863811e-02],\n",
       "       [3.38223487e-01, 6.61776513e-01],\n",
       "       [4.60587406e-01, 5.39412594e-01],\n",
       "       [2.01280269e-01, 7.98719731e-01],\n",
       "       [9.74455323e-01, 2.55446767e-02],\n",
       "       [9.55793448e-01, 4.42065518e-02],\n",
       "       [9.55130239e-01, 4.48697605e-02],\n",
       "       [4.77558168e-01, 5.22441832e-01],\n",
       "       [6.72382212e-01, 3.27617788e-01],\n",
       "       [9.81957138e-01, 1.80428622e-02],\n",
       "       [9.84524356e-01, 1.54756441e-02],\n",
       "       [8.83093225e-01, 1.16906775e-01],\n",
       "       [9.98073133e-01, 1.92686703e-03],\n",
       "       [9.93913927e-01, 6.08607313e-03],\n",
       "       [7.05214151e-01, 2.94785849e-01],\n",
       "       [9.81746243e-01, 1.82537566e-02],\n",
       "       [4.00540464e-01, 5.99459536e-01],\n",
       "       [9.49660799e-01, 5.03392013e-02],\n",
       "       [9.88714957e-01, 1.12850434e-02],\n",
       "       [9.79471928e-01, 2.05280721e-02],\n",
       "       [9.63909028e-02, 9.03609097e-01],\n",
       "       [9.68657847e-01, 3.13421535e-02],\n",
       "       [8.60448056e-01, 1.39551944e-01],\n",
       "       [2.92064734e-01, 7.07935266e-01],\n",
       "       [9.90594242e-01, 9.40575825e-03],\n",
       "       [2.81723719e-01, 7.18276281e-01],\n",
       "       [9.37185325e-01, 6.28146750e-02],\n",
       "       [9.14406635e-01, 8.55933648e-02],\n",
       "       [9.28465984e-01, 7.15340159e-02],\n",
       "       [9.44157318e-01, 5.58426820e-02],\n",
       "       [8.59909900e-01, 1.40090100e-01],\n",
       "       [9.89523180e-01, 1.04768200e-02],\n",
       "       [9.93078148e-01, 6.92185199e-03],\n",
       "       [7.01203745e-01, 2.98796255e-01],\n",
       "       [9.99288874e-01, 7.11125632e-04],\n",
       "       [2.56720397e-01, 7.43279603e-01],\n",
       "       [9.96509337e-01, 3.49066315e-03],\n",
       "       [9.99219078e-01, 7.80922335e-04],\n",
       "       [3.85158807e-01, 6.14841193e-01],\n",
       "       [8.30108798e-01, 1.69891202e-01],\n",
       "       [9.74015153e-01, 2.59848472e-02],\n",
       "       [9.96795245e-01, 3.20475474e-03],\n",
       "       [9.72605761e-01, 2.73942393e-02],\n",
       "       [2.95910834e-01, 7.04089166e-01],\n",
       "       [7.71649393e-01, 2.28350607e-01],\n",
       "       [9.93255228e-01, 6.74477174e-03],\n",
       "       [8.85017527e-01, 1.14982473e-01],\n",
       "       [9.94849604e-01, 5.15039551e-03],\n",
       "       [9.83485890e-01, 1.65141098e-02],\n",
       "       [9.96115945e-01, 3.88405504e-03],\n",
       "       [9.85555858e-01, 1.44441421e-02],\n",
       "       [9.69195840e-01, 3.08041595e-02],\n",
       "       [9.04455857e-01, 9.55441430e-02],\n",
       "       [2.79379912e-01, 7.20620088e-01],\n",
       "       [2.49263229e-01, 7.50736771e-01],\n",
       "       [9.79494645e-01, 2.05053548e-02],\n",
       "       [9.98905554e-01, 1.09444562e-03],\n",
       "       [9.92361388e-01, 7.63861233e-03],\n",
       "       [3.78771926e-01, 6.21228074e-01],\n",
       "       [8.57080073e-01, 1.42919927e-01],\n",
       "       [6.87943891e-01, 3.12056109e-01],\n",
       "       [9.98067093e-01, 1.93290690e-03],\n",
       "       [9.74034373e-01, 2.59656274e-02],\n",
       "       [2.32193144e-01, 7.67806856e-01],\n",
       "       [7.41237895e-01, 2.58762105e-01],\n",
       "       [4.79119068e-01, 5.20880932e-01],\n",
       "       [2.25899760e-01, 7.74100240e-01],\n",
       "       [9.76361292e-01, 2.36387079e-02],\n",
       "       [9.94952830e-01, 5.04717008e-03],\n",
       "       [9.96710831e-01, 3.28916929e-03],\n",
       "       [8.67985493e-01, 1.32014507e-01],\n",
       "       [9.64814976e-01, 3.51850237e-02],\n",
       "       [2.81637070e-01, 7.18362930e-01],\n",
       "       [9.95515042e-01, 4.48495754e-03],\n",
       "       [9.73417998e-01, 2.65820015e-02],\n",
       "       [7.23372125e-01, 2.76627875e-01],\n",
       "       [2.80082269e-01, 7.19917731e-01],\n",
       "       [1.76319718e-01, 8.23680282e-01],\n",
       "       [8.04696962e-01, 1.95303038e-01],\n",
       "       [9.67852667e-01, 3.21473334e-02],\n",
       "       [9.46112599e-01, 5.38874013e-02],\n",
       "       [9.04231961e-01, 9.57680391e-02],\n",
       "       [2.76065568e-01, 7.23934432e-01],\n",
       "       [4.31086460e-01, 5.68913540e-01],\n",
       "       [9.78314726e-01, 2.16852744e-02],\n",
       "       [8.76177144e-01, 1.23822856e-01],\n",
       "       [9.93792935e-01, 6.20706531e-03],\n",
       "       [9.96481652e-01, 3.51834791e-03],\n",
       "       [9.98123004e-01, 1.87699642e-03],\n",
       "       [8.18391170e-01, 1.81608830e-01],\n",
       "       [3.38254247e-01, 6.61745753e-01],\n",
       "       [9.14190136e-01, 8.58098639e-02],\n",
       "       [7.96635834e-01, 2.03364166e-01],\n",
       "       [9.90926510e-01, 9.07348969e-03],\n",
       "       [2.64528283e-01, 7.35471717e-01],\n",
       "       [8.70108026e-01, 1.29891974e-01],\n",
       "       [9.23487372e-01, 7.65126279e-02],\n",
       "       [9.90109094e-01, 9.89090588e-03],\n",
       "       [9.85626267e-01, 1.43737333e-02],\n",
       "       [9.75931763e-01, 2.40682371e-02],\n",
       "       [9.89058286e-01, 1.09417144e-02],\n",
       "       [7.42082033e-01, 2.57917967e-01],\n",
       "       [9.84178534e-01, 1.58214659e-02],\n",
       "       [9.66883863e-01, 3.31161371e-02],\n",
       "       [8.86004151e-01, 1.13995849e-01],\n",
       "       [4.49781607e-01, 5.50218393e-01],\n",
       "       [1.88277633e-01, 8.11722367e-01],\n",
       "       [9.78773277e-01, 2.12267234e-02],\n",
       "       [6.69091524e-01, 3.30908476e-01],\n",
       "       [9.94823231e-01, 5.17676927e-03],\n",
       "       [8.93111910e-02, 9.10688809e-01],\n",
       "       [8.86629507e-01, 1.13370493e-01],\n",
       "       [2.32193144e-01, 7.67806856e-01],\n",
       "       [9.94249185e-01, 5.75081456e-03],\n",
       "       [9.87808171e-01, 1.21918290e-02],\n",
       "       [9.88355873e-01, 1.16441266e-02],\n",
       "       [5.80876228e-01, 4.19123772e-01],\n",
       "       [9.92551782e-01, 7.44821837e-03],\n",
       "       [9.65670417e-01, 3.43295830e-02],\n",
       "       [9.82743930e-01, 1.72560698e-02],\n",
       "       [6.59392875e-01, 3.40607125e-01],\n",
       "       [9.76345568e-01, 2.36544323e-02],\n",
       "       [9.57687211e-01, 4.23127886e-02],\n",
       "       [2.92064734e-01, 7.07935266e-01],\n",
       "       [9.17087355e-01, 8.29126452e-02],\n",
       "       [5.44490867e-01, 4.55509133e-01],\n",
       "       [9.92533191e-01, 7.46680881e-03],\n",
       "       [4.31086460e-01, 5.68913540e-01],\n",
       "       [9.55309480e-01, 4.46905197e-02],\n",
       "       [9.02874472e-01, 9.71255281e-02],\n",
       "       [9.16601284e-01, 8.33987165e-02],\n",
       "       [9.43146254e-01, 5.68537462e-02],\n",
       "       [6.42323081e-01, 3.57676919e-01],\n",
       "       [4.68897744e-01, 5.31102256e-01],\n",
       "       [9.83366183e-01, 1.66338168e-02],\n",
       "       [9.79357292e-01, 2.06427078e-02],\n",
       "       [9.92530596e-01, 7.46940352e-03],\n",
       "       [9.10368935e-01, 8.96310646e-02],\n",
       "       [9.98774093e-01, 1.22590662e-03],\n",
       "       [9.79301359e-01, 2.06986407e-02],\n",
       "       [7.29033096e-01, 2.70966904e-01],\n",
       "       [8.30069268e-02, 9.16993073e-01],\n",
       "       [8.95668136e-01, 1.04331864e-01],\n",
       "       [9.85691831e-01, 1.43081686e-02],\n",
       "       [9.98164249e-01, 1.83575078e-03],\n",
       "       [9.99284703e-01, 7.15297270e-04],\n",
       "       [9.95610950e-01, 4.38905033e-03],\n",
       "       [4.50276536e-01, 5.49723464e-01],\n",
       "       [9.99157972e-01, 8.42028077e-04],\n",
       "       [7.53071028e-01, 2.46928972e-01],\n",
       "       [5.00289591e-01, 4.99710409e-01],\n",
       "       [9.60924608e-01, 3.90753918e-02],\n",
       "       [8.55206338e-01, 1.44793662e-01],\n",
       "       [9.71956008e-01, 2.80439919e-02],\n",
       "       [7.39373976e-01, 2.60626024e-01],\n",
       "       [9.90732878e-01, 9.26712190e-03],\n",
       "       [4.48595949e-01, 5.51404051e-01],\n",
       "       [9.68894253e-01, 3.11057468e-02],\n",
       "       [9.79164053e-01, 2.08359468e-02],\n",
       "       [4.22367724e-01, 5.77632276e-01],\n",
       "       [9.94667395e-01, 5.33260506e-03],\n",
       "       [8.84826517e-01, 1.15173483e-01],\n",
       "       [9.14603630e-01, 8.53963702e-02],\n",
       "       [4.76065757e-01, 5.23934243e-01],\n",
       "       [3.25976827e-01, 6.74023173e-01],\n",
       "       [8.54048733e-01, 1.45951267e-01],\n",
       "       [8.11712053e-01, 1.88287947e-01],\n",
       "       [9.88368624e-01, 1.16313764e-02],\n",
       "       [9.70512371e-01, 2.94876292e-02],\n",
       "       [9.96589488e-01, 3.41051244e-03],\n",
       "       [9.33822692e-01, 6.61773084e-02],\n",
       "       [9.92841910e-01, 7.15809016e-03],\n",
       "       [9.98857564e-01, 1.14243596e-03]])"
      ]
     },
     "execution_count": 19,
     "metadata": {},
     "output_type": "execute_result"
    }
   ],
   "source": [
    "model.predict_proba(X_val)"
   ]
  },
  {
   "cell_type": "code",
   "execution_count": 20,
   "id": "e87cab8a",
   "metadata": {},
   "outputs": [],
   "source": [
    "y_pred = model.predict_proba(X_val)[:, 1]"
   ]
  },
  {
   "cell_type": "code",
   "execution_count": 22,
   "id": "d07a0b76",
   "metadata": {},
   "outputs": [],
   "source": [
    "good = y_pred > 0.5"
   ]
  },
  {
   "cell_type": "code",
   "execution_count": 23,
   "id": "e85c6db7",
   "metadata": {},
   "outputs": [
    {
     "data": {
      "text/plain": [
       "0.8308823529411765"
      ]
     },
     "execution_count": 23,
     "metadata": {},
     "output_type": "execute_result"
    }
   ],
   "source": [
    "(y_val == good).mean()"
   ]
  },
  {
   "cell_type": "code",
   "execution_count": 30,
   "id": "d36eefcb",
   "metadata": {},
   "outputs": [
    {
     "data": {
      "text/plain": [
       "0.8308823529411765"
      ]
     },
     "execution_count": 30,
     "metadata": {},
     "output_type": "execute_result"
    }
   ],
   "source": [
    "accuracy_score(y_val, y_pred>0.5)"
   ]
  },
  {
   "cell_type": "markdown",
   "id": "80a88a19",
   "metadata": {},
   "source": [
    "# Confusion Matrix"
   ]
  },
  {
   "cell_type": "code",
   "execution_count": 32,
   "id": "d548df8a",
   "metadata": {},
   "outputs": [],
   "source": [
    "actual_positive = (y_val == 1)\n",
    "actual_negative = (y_val == 0)"
   ]
  },
  {
   "cell_type": "code",
   "execution_count": 33,
   "id": "00d911f4",
   "metadata": {},
   "outputs": [],
   "source": [
    "t = 0.5\n",
    "predict_positive = (y_pred >= t)\n",
    "predict_negative = (y_pred < t)"
   ]
  },
  {
   "cell_type": "code",
   "execution_count": 34,
   "id": "666a1ce5",
   "metadata": {},
   "outputs": [
    {
     "data": {
      "text/plain": [
       "array([[190,  18],\n",
       "       [ 28,  36]])"
      ]
     },
     "execution_count": 34,
     "metadata": {},
     "output_type": "execute_result"
    }
   ],
   "source": [
    "tp = (predict_positive & actual_positive).sum()\n",
    "tn = (predict_negative & actual_negative).sum()\n",
    "\n",
    "fp = (predict_positive & actual_negative).sum()\n",
    "fn = (predict_negative & actual_positive).sum()\n",
    "confusion_matrix = np.array([\n",
    "    [tn, fp],\n",
    "    [fn, tp]\n",
    "])\n",
    "confusion_matrix"
   ]
  },
  {
   "cell_type": "code",
   "execution_count": 35,
   "id": "253d33a7",
   "metadata": {},
   "outputs": [
    {
     "data": {
      "text/plain": [
       "272"
      ]
     },
     "execution_count": 35,
     "metadata": {},
     "output_type": "execute_result"
    }
   ],
   "source": [
    "len(y_val)"
   ]
  },
  {
   "cell_type": "code",
   "execution_count": 36,
   "id": "a26bd51f",
   "metadata": {},
   "outputs": [
    {
     "data": {
      "text/plain": [
       "array([[0.7 , 0.07],\n",
       "       [0.1 , 0.13]])"
      ]
     },
     "execution_count": 36,
     "metadata": {},
     "output_type": "execute_result"
    }
   ],
   "source": [
    "(confusion_matrix / confusion_matrix.sum()).round(2)"
   ]
  },
  {
   "cell_type": "markdown",
   "id": "f1de4c59",
   "metadata": {},
   "source": [
    "# Precision and Recall"
   ]
  },
  {
   "cell_type": "code",
   "execution_count": null,
   "id": "d86fbf36",
   "metadata": {},
   "outputs": [],
   "source": [
    "p = tp / (tp + fp)\n",
    "p"
   ]
  },
  {
   "cell_type": "code",
   "execution_count": null,
   "id": "9ea28852",
   "metadata": {},
   "outputs": [],
   "source": [
    "r = tp / (tp + fn)\n",
    "r"
   ]
  },
  {
   "cell_type": "code",
   "execution_count": null,
   "id": "0176f8d8",
   "metadata": {},
   "outputs": [],
   "source": []
  }
 ],
 "metadata": {
  "kernelspec": {
   "display_name": "Python [conda env:base] *",
   "language": "python",
   "name": "conda-base-py"
  },
  "language_info": {
   "codemirror_mode": {
    "name": "ipython",
    "version": 3
   },
   "file_extension": ".py",
   "mimetype": "text/x-python",
   "name": "python",
   "nbconvert_exporter": "python",
   "pygments_lexer": "ipython3",
   "version": "3.12.7"
  }
 },
 "nbformat": 4,
 "nbformat_minor": 5
}
