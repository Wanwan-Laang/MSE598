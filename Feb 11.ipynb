{
 "cells": [
  {
   "cell_type": "markdown",
   "metadata": {},
   "source": []
  },
  {
   "cell_type": "markdown",
   "metadata": {},
   "source": [
    "# Feb 11, 2024\n",
    "\n",
    "## Goal\n",
    "\n",
    "Collect a bit of real data that you would need/want to solve a specific problem.\n",
    "\n",
    "## Steps\n"
   ]
  },
  {
   "cell_type": "markdown",
   "metadata": {
    "notebookRunGroups": {
     "groupValue": "1"
    }
   },
   "source": [
    "1. What feature data do you have/need?\n",
    "2. What target data do you have/need?\n",
    "\n",
    "In my research, I aim to train a **machine learning interatomic potential** for **molten salt**, specifically **FLiBe**. To train a high-quality potential, we need essential data that include **atomic positions and corresponding energies**. These can be primarily obtained from **DFT calculations**. \n",
    "\n",
    "However, when investigating the **Primary Knock-on Atom (PKA) process**, DFT alone is insufficient due to computational limitations. Therefore, **AIMD simulations** are necessary to supplement the dataset. AIMD can provide additional configurations and dynamical information that are difficult to capture using only static DFT calculations.\n",
    "\n",
    "By integrating data from **DFT** and **AIMD**, we can construct a robust dataset that enhances the **accuracy and generalizability** of the machine learning interatomic potential. This approach is particularly crucial for studying **PKA-related processes** in molten salt systems.  \n",
    "\n",
    "Currently, we have 90,000 frames in total.\n",
    "\n"
   ]
  },
  {
   "cell_type": "code",
   "execution_count": null,
   "metadata": {
    "vscode": {
     "languageId": "markdown"
    }
   },
   "outputs": [],
   "source": [
    "## Data exploration exercise\n",
    "\n",
    "get data from Kaggle"
   ]
  },
  {
   "cell_type": "code",
   "execution_count": null,
   "metadata": {
    "vscode": {
     "languageId": "markdown"
    }
   },
   "outputs": [],
   "source": [
    "! cd /Users/wleng2/Library/CloudStorage/OneDrive-UniversityofIllinois-Urbana/Notability/MSE/598\n",
    "! curl -L -o yeah-concret-data.zip https://www.kaggle.com/api/v1/datasets/download/maajdl/yeh-concret-data\n"
   ]
  },
  {
   "cell_type": "code",
   "execution_count": null,
   "metadata": {
    "vscode": {
     "languageId": "markdown"
    }
   },
   "outputs": [],
   "source": [
    "! unzip yeah-concret-data.zip"
   ]
  },
  {
   "cell_type": "markdown",
   "metadata": {},
   "source": [
    "now you can see\n",
    "\n",
    "| cement | slag  | flyash | water | superplasticizer | coarseaggregate | fineaggregate | age | csMPa |"
   ]
  }
 ],
 "metadata": {
  "kernelspec": {
   "display_name": "plot",
   "language": "python",
   "name": "python3"
  },
  "language_info": {
   "codemirror_mode": {
    "name": "ipython",
    "version": 3
   },
   "file_extension": ".py",
   "mimetype": "text/x-python",
   "name": "python",
   "nbconvert_exporter": "python",
   "pygments_lexer": "ipython3",
   "version": "3.10.13"
  }
 },
 "nbformat": 4,
 "nbformat_minor": 2
}
