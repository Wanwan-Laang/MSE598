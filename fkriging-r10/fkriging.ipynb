{
 "cells": [
  {
   "cell_type": "markdown",
   "metadata": {},
   "source": [
    "# Gaussian Process Regression for Surface Interpolation\n",
    "Gaussian process regression (GPR) is a nonparametric regression method with widespread applications in various scientific and engineering fields. In manufacturing, it has been used for surface interpolation that generates high-resolution surface estimations from coarser measurement data. \n",
    "\n",
    "The first part of this tutorial provides a hands-on introduction to Gaussian process regression using a 1D regression example. The second part introduces you to a GPR-based technique called filtered kriging (FK), which uses a pre-filter to further improve interpolation performance, illustrated using periodic surfaces manufactured by two-photon lithography (TPL).\n",
    "\n",
    "### [A Simple GP Example](./GP_simple_example.ipynb) \n",
    "- Simulate a GP by visualizing the prior, posterior, and predictive mean and standard deviations. \n",
    "- Introduce the GaussianProcessRegressor class in the scikit-learn package that allows hyperparameter tuning to fit more complicated GPR models.\n",
    "\n",
    "### [A Tutorial to Filtered Kriging for Spatial Interpolation](./filtered_kriging_tutorial.ipynb)\n",
    "- Introduce and visualize the TPL dataset, and downsample to simulate low-resolution measurements\n",
    "- Introduce standard GPR-based methods for spatial interpolation, including ordinary kriging and kriging with external drift\n",
    "- Compute empirical covariance to illustrate that convential methods may have difficulty with some cases, e.g., periodic surfaces\n",
    "- Use filtered kriging to improve interpolation performance\n"
   ]
  }
 ],
 "metadata": {
  "kernelspec": {
   "display_name": "Python 3",
   "language": "python",
   "name": "python3"
  },
  "language_info": {
   "codemirror_mode": {
    "name": "ipython",
    "version": 3
   },
   "file_extension": ".py",
   "mimetype": "text/x-python",
   "name": "python",
   "nbconvert_exporter": "python",
   "pygments_lexer": "ipython3",
   "version": "3.8.10"
  }
 },
 "nbformat": 4,
 "nbformat_minor": 2
}
